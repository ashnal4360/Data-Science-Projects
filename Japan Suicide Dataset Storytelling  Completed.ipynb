{
 "cells": [
  {
   "cell_type": "code",
   "execution_count": 8,
   "id": "41279ba7",
   "metadata": {},
   "outputs": [],
   "source": [
    "import pandas as pd\n",
    "import matplotlib.pyplot as plt\n",
    "import numpy as np"
   ]
  },
  {
   "cell_type": "code",
   "execution_count": 3,
   "id": "09f32c51",
   "metadata": {},
   "outputs": [],
   "source": [
    "df = pd.read_csv(r'C:\\Users\\ashna\\OneDrive\\Documents\\School\\UMGC\\Suicide in Japan\\suicide_all.csv')"
   ]
  },
  {
   "cell_type": "code",
   "execution_count": 47,
   "id": "527a2c81",
   "metadata": {},
   "outputs": [
    {
     "data": {
      "text/html": [
       "<div>\n",
       "<style scoped>\n",
       "    .dataframe tbody tr th:only-of-type {\n",
       "        vertical-align: middle;\n",
       "    }\n",
       "\n",
       "    .dataframe tbody tr th {\n",
       "        vertical-align: top;\n",
       "    }\n",
       "\n",
       "    .dataframe thead th {\n",
       "        text-align: right;\n",
       "    }\n",
       "</style>\n",
       "<table border=\"1\" class=\"dataframe\">\n",
       "  <thead>\n",
       "    <tr style=\"text-align: right;\">\n",
       "      <th></th>\n",
       "      <th>year</th>\n",
       "      <th>num_suicide_male</th>\n",
       "      <th>num_suicide_female</th>\n",
       "      <th>suicide_rate</th>\n",
       "      <th>suicide_rate_male</th>\n",
       "      <th>suicide_rate_female</th>\n",
       "      <th>num_suicide_age_0_19</th>\n",
       "      <th>num_suicide_age_20_29</th>\n",
       "      <th>num_suicide_age_30_39</th>\n",
       "      <th>num_suicide_age_40_49</th>\n",
       "      <th>num_suicide_age_50_59</th>\n",
       "      <th>num_suicide_60_plus</th>\n",
       "      <th>num_suicide_age_unknown</th>\n",
       "      <th>num_suicide_total</th>\n",
       "    </tr>\n",
       "  </thead>\n",
       "  <tbody>\n",
       "    <tr>\n",
       "      <th>0</th>\n",
       "      <td>1978</td>\n",
       "      <td>12859</td>\n",
       "      <td>7929</td>\n",
       "      <td>18.0</td>\n",
       "      <td>22.7</td>\n",
       "      <td>13.6</td>\n",
       "      <td>866</td>\n",
       "      <td>3741</td>\n",
       "      <td>3597</td>\n",
       "      <td>3641</td>\n",
       "      <td>2753</td>\n",
       "      <td>6024</td>\n",
       "      <td>166</td>\n",
       "      <td>20788</td>\n",
       "    </tr>\n",
       "    <tr>\n",
       "      <th>1</th>\n",
       "      <td>1979</td>\n",
       "      <td>13386</td>\n",
       "      <td>8117</td>\n",
       "      <td>18.5</td>\n",
       "      <td>23.4</td>\n",
       "      <td>13.8</td>\n",
       "      <td>919</td>\n",
       "      <td>3654</td>\n",
       "      <td>3808</td>\n",
       "      <td>3796</td>\n",
       "      <td>2977</td>\n",
       "      <td>6163</td>\n",
       "      <td>186</td>\n",
       "      <td>21503</td>\n",
       "    </tr>\n",
       "    <tr>\n",
       "      <th>2</th>\n",
       "      <td>1980</td>\n",
       "      <td>13155</td>\n",
       "      <td>7893</td>\n",
       "      <td>18.0</td>\n",
       "      <td>22.8</td>\n",
       "      <td>13.3</td>\n",
       "      <td>678</td>\n",
       "      <td>3261</td>\n",
       "      <td>3791</td>\n",
       "      <td>3911</td>\n",
       "      <td>3138</td>\n",
       "      <td>6166</td>\n",
       "      <td>103</td>\n",
       "      <td>21048</td>\n",
       "    </tr>\n",
       "    <tr>\n",
       "      <th>3</th>\n",
       "      <td>1981</td>\n",
       "      <td>12942</td>\n",
       "      <td>7492</td>\n",
       "      <td>17.3</td>\n",
       "      <td>22.3</td>\n",
       "      <td>12.5</td>\n",
       "      <td>620</td>\n",
       "      <td>2777</td>\n",
       "      <td>3653</td>\n",
       "      <td>3996</td>\n",
       "      <td>3304</td>\n",
       "      <td>5985</td>\n",
       "      <td>99</td>\n",
       "      <td>20434</td>\n",
       "    </tr>\n",
       "    <tr>\n",
       "      <th>4</th>\n",
       "      <td>1982</td>\n",
       "      <td>13654</td>\n",
       "      <td>7574</td>\n",
       "      <td>17.9</td>\n",
       "      <td>23.4</td>\n",
       "      <td>12.6</td>\n",
       "      <td>599</td>\n",
       "      <td>2832</td>\n",
       "      <td>3787</td>\n",
       "      <td>4284</td>\n",
       "      <td>3616</td>\n",
       "      <td>6025</td>\n",
       "      <td>85</td>\n",
       "      <td>21228</td>\n",
       "    </tr>\n",
       "  </tbody>\n",
       "</table>\n",
       "</div>"
      ],
      "text/plain": [
       "   year  num_suicide_male  num_suicide_female  suicide_rate  \\\n",
       "0  1978             12859                7929          18.0   \n",
       "1  1979             13386                8117          18.5   \n",
       "2  1980             13155                7893          18.0   \n",
       "3  1981             12942                7492          17.3   \n",
       "4  1982             13654                7574          17.9   \n",
       "\n",
       "   suicide_rate_male  suicide_rate_female  num_suicide_age_0_19  \\\n",
       "0               22.7                 13.6                   866   \n",
       "1               23.4                 13.8                   919   \n",
       "2               22.8                 13.3                   678   \n",
       "3               22.3                 12.5                   620   \n",
       "4               23.4                 12.6                   599   \n",
       "\n",
       "   num_suicide_age_20_29   num_suicide_age_30_39   num_suicide_age_40_49   \\\n",
       "0                    3741                    3597                    3641   \n",
       "1                    3654                    3808                    3796   \n",
       "2                    3261                    3791                    3911   \n",
       "3                    2777                    3653                    3996   \n",
       "4                    2832                    3787                    4284   \n",
       "\n",
       "   num_suicide_age_50_59   num_suicide_60_plus  num_suicide_age_unknown  \\\n",
       "0                    2753                 6024                      166   \n",
       "1                    2977                 6163                      186   \n",
       "2                    3138                 6166                      103   \n",
       "3                    3304                 5985                       99   \n",
       "4                    3616                 6025                       85   \n",
       "\n",
       "   num_suicide_total  \n",
       "0              20788  \n",
       "1              21503  \n",
       "2              21048  \n",
       "3              20434  \n",
       "4              21228  "
      ]
     },
     "execution_count": 47,
     "metadata": {},
     "output_type": "execute_result"
    }
   ],
   "source": [
    "df.head()"
   ]
  },
  {
   "cell_type": "code",
   "execution_count": 22,
   "id": "72916ea6",
   "metadata": {},
   "outputs": [],
   "source": [
    "df2022 = pd.read_excel(r'C:\\Users\\ashna\\OneDrive\\Documents\\School\\UMGC\\Suicide in Japan\\2022 Suicide rates.xlsx')"
   ]
  },
  {
   "cell_type": "code",
   "execution_count": 23,
   "id": "7b81b735",
   "metadata": {},
   "outputs": [
    {
     "data": {
      "text/html": [
       "<div>\n",
       "<style scoped>\n",
       "    .dataframe tbody tr th:only-of-type {\n",
       "        vertical-align: middle;\n",
       "    }\n",
       "\n",
       "    .dataframe tbody tr th {\n",
       "        vertical-align: top;\n",
       "    }\n",
       "\n",
       "    .dataframe thead th {\n",
       "        text-align: right;\n",
       "    }\n",
       "</style>\n",
       "<table border=\"1\" class=\"dataframe\">\n",
       "  <thead>\n",
       "    <tr style=\"text-align: right;\">\n",
       "      <th></th>\n",
       "      <th>year</th>\n",
       "      <th>num_suicide_male</th>\n",
       "      <th>num_suicide_female</th>\n",
       "      <th>suicide_rate</th>\n",
       "      <th>suicide_rate_male</th>\n",
       "      <th>suicide_rate_female</th>\n",
       "      <th>num_suicide_age_0_19</th>\n",
       "      <th>num_suicide_age_20_29</th>\n",
       "      <th>num_suicide_age_30_39</th>\n",
       "      <th>num_suicide_age_40_49</th>\n",
       "      <th>num_suicide_age_50_59</th>\n",
       "      <th>num_suicide_60_plus</th>\n",
       "      <th>num_suicide_age_unknown</th>\n",
       "      <th>num_suicide_total</th>\n",
       "    </tr>\n",
       "  </thead>\n",
       "  <tbody>\n",
       "    <tr>\n",
       "      <th>0</th>\n",
       "      <td>2022</td>\n",
       "      <td>14746</td>\n",
       "      <td>7135</td>\n",
       "      <td>17.5</td>\n",
       "      <td>24.3</td>\n",
       "      <td>11.1</td>\n",
       "      <td>796</td>\n",
       "      <td>2483</td>\n",
       "      <td>2545</td>\n",
       "      <td>3665</td>\n",
       "      <td>4093</td>\n",
       "      <td>8249</td>\n",
       "      <td>48</td>\n",
       "      <td>21881</td>\n",
       "    </tr>\n",
       "  </tbody>\n",
       "</table>\n",
       "</div>"
      ],
      "text/plain": [
       "   year  num_suicide_male  num_suicide_female  suicide_rate  \\\n",
       "0  2022             14746                7135          17.5   \n",
       "\n",
       "   suicide_rate_male  suicide_rate_female  num_suicide_age_0_19  \\\n",
       "0               24.3                 11.1                   796   \n",
       "\n",
       "   num_suicide_age_20_29   num_suicide_age_30_39   num_suicide_age_40_49   \\\n",
       "0                    2483                    2545                    3665   \n",
       "\n",
       "   num_suicide_age_50_59   num_suicide_60_plus  num_suicide_age_unknown  \\\n",
       "0                    4093                 8249                       48   \n",
       "\n",
       "   num_suicide_total  \n",
       "0              21881  "
      ]
     },
     "execution_count": 23,
     "metadata": {},
     "output_type": "execute_result"
    }
   ],
   "source": [
    "df2022"
   ]
  },
  {
   "cell_type": "code",
   "execution_count": 69,
   "id": "2c528eea",
   "metadata": {},
   "outputs": [],
   "source": [
    "df0809 = pd.read_excel(r'C:\\Users\\ashna\\OneDrive\\Documents\\School\\UMGC\\Suicide in Japan\\2008.2009 GlobalFinancialCrisis.xlsx')"
   ]
  },
  {
   "cell_type": "code",
   "execution_count": 70,
   "id": "482c8953",
   "metadata": {},
   "outputs": [
    {
     "data": {
      "text/html": [
       "<div>\n",
       "<style scoped>\n",
       "    .dataframe tbody tr th:only-of-type {\n",
       "        vertical-align: middle;\n",
       "    }\n",
       "\n",
       "    .dataframe tbody tr th {\n",
       "        vertical-align: top;\n",
       "    }\n",
       "\n",
       "    .dataframe thead th {\n",
       "        text-align: right;\n",
       "    }\n",
       "</style>\n",
       "<table border=\"1\" class=\"dataframe\">\n",
       "  <thead>\n",
       "    <tr style=\"text-align: right;\">\n",
       "      <th></th>\n",
       "      <th>year</th>\n",
       "      <th>num_suicide_male</th>\n",
       "      <th>num_suicide_female</th>\n",
       "      <th>suicide_rate</th>\n",
       "      <th>suicide_rate_male</th>\n",
       "      <th>suicide_rate_female</th>\n",
       "      <th>num_suicide_age_0_19</th>\n",
       "      <th>num_suicide_age_20_29</th>\n",
       "      <th>num_suicide_age_30_39</th>\n",
       "      <th>num_suicide_age_40_49</th>\n",
       "      <th>num_suicide_age_50_59</th>\n",
       "      <th>num_suicide_60_plus</th>\n",
       "      <th>num_suicide_age_unknown</th>\n",
       "      <th>num_suicide_total</th>\n",
       "    </tr>\n",
       "  </thead>\n",
       "  <tbody>\n",
       "    <tr>\n",
       "      <th>0</th>\n",
       "      <td>2008</td>\n",
       "      <td>22831</td>\n",
       "      <td>9418</td>\n",
       "      <td>25.2</td>\n",
       "      <td>36.6</td>\n",
       "      <td>14.3</td>\n",
       "      <td>611</td>\n",
       "      <td>3438</td>\n",
       "      <td>4850</td>\n",
       "      <td>4970</td>\n",
       "      <td>6363</td>\n",
       "      <td>11793</td>\n",
       "      <td>224</td>\n",
       "      <td>32249</td>\n",
       "    </tr>\n",
       "    <tr>\n",
       "      <th>1</th>\n",
       "      <td>2009</td>\n",
       "      <td>23472</td>\n",
       "      <td>9373</td>\n",
       "      <td>25.7</td>\n",
       "      <td>37.6</td>\n",
       "      <td>14.3</td>\n",
       "      <td>565</td>\n",
       "      <td>3470</td>\n",
       "      <td>4794</td>\n",
       "      <td>5261</td>\n",
       "      <td>6491</td>\n",
       "      <td>12034</td>\n",
       "      <td>230</td>\n",
       "      <td>32845</td>\n",
       "    </tr>\n",
       "  </tbody>\n",
       "</table>\n",
       "</div>"
      ],
      "text/plain": [
       "   year  num_suicide_male  num_suicide_female  suicide_rate  \\\n",
       "0  2008             22831                9418          25.2   \n",
       "1  2009             23472                9373          25.7   \n",
       "\n",
       "   suicide_rate_male  suicide_rate_female  num_suicide_age_0_19  \\\n",
       "0               36.6                 14.3                   611   \n",
       "1               37.6                 14.3                   565   \n",
       "\n",
       "   num_suicide_age_20_29   num_suicide_age_30_39   num_suicide_age_40_49   \\\n",
       "0                    3438                    4850                    4970   \n",
       "1                    3470                    4794                    5261   \n",
       "\n",
       "   num_suicide_age_50_59   num_suicide_60_plus  num_suicide_age_unknown  \\\n",
       "0                    6363                11793                      224   \n",
       "1                    6491                12034                      230   \n",
       "\n",
       "   num_suicide_total  \n",
       "0              32249  \n",
       "1              32845  "
      ]
     },
     "execution_count": 70,
     "metadata": {},
     "output_type": "execute_result"
    }
   ],
   "source": [
    "df0809"
   ]
  },
  {
   "cell_type": "code",
   "execution_count": 73,
   "id": "9af00f05",
   "metadata": {},
   "outputs": [],
   "source": [
    "df1997 = pd.read_excel(r'C:\\Users\\ashna\\OneDrive\\Documents\\School\\UMGC\\Suicide in Japan\\1997AsianFinancialCrisis.xlsx')"
   ]
  },
  {
   "cell_type": "code",
   "execution_count": 74,
   "id": "a1844f7a",
   "metadata": {},
   "outputs": [
    {
     "data": {
      "text/html": [
       "<div>\n",
       "<style scoped>\n",
       "    .dataframe tbody tr th:only-of-type {\n",
       "        vertical-align: middle;\n",
       "    }\n",
       "\n",
       "    .dataframe tbody tr th {\n",
       "        vertical-align: top;\n",
       "    }\n",
       "\n",
       "    .dataframe thead th {\n",
       "        text-align: right;\n",
       "    }\n",
       "</style>\n",
       "<table border=\"1\" class=\"dataframe\">\n",
       "  <thead>\n",
       "    <tr style=\"text-align: right;\">\n",
       "      <th></th>\n",
       "      <th>year</th>\n",
       "      <th>num_suicide_male</th>\n",
       "      <th>num_suicide_female</th>\n",
       "      <th>suicide_rate</th>\n",
       "      <th>suicide_rate_male</th>\n",
       "      <th>suicide_rate_female</th>\n",
       "      <th>num_suicide_age_0_19</th>\n",
       "      <th>num_suicide_age_20_29</th>\n",
       "      <th>num_suicide_age_30_39</th>\n",
       "      <th>num_suicide_age_40_49</th>\n",
       "      <th>num_suicide_age_50_59</th>\n",
       "      <th>num_suicide_60_plus</th>\n",
       "      <th>num_suicide_age_unknown</th>\n",
       "      <th>num_suicide_total</th>\n",
       "    </tr>\n",
       "  </thead>\n",
       "  <tbody>\n",
       "    <tr>\n",
       "      <th>0</th>\n",
       "      <td>1997</td>\n",
       "      <td>16416</td>\n",
       "      <td>7975</td>\n",
       "      <td>19.3</td>\n",
       "      <td>26.6</td>\n",
       "      <td>12.4</td>\n",
       "      <td>469</td>\n",
       "      <td>2534</td>\n",
       "      <td>2767</td>\n",
       "      <td>4200</td>\n",
       "      <td>5422</td>\n",
       "      <td>8747</td>\n",
       "      <td>252</td>\n",
       "      <td>24391</td>\n",
       "    </tr>\n",
       "  </tbody>\n",
       "</table>\n",
       "</div>"
      ],
      "text/plain": [
       "   year  num_suicide_male  num_suicide_female  suicide_rate  \\\n",
       "0  1997             16416                7975          19.3   \n",
       "\n",
       "   suicide_rate_male  suicide_rate_female  num_suicide_age_0_19  \\\n",
       "0               26.6                 12.4                   469   \n",
       "\n",
       "   num_suicide_age_20_29   num_suicide_age_30_39   num_suicide_age_40_49   \\\n",
       "0                    2534                    2767                    4200   \n",
       "\n",
       "   num_suicide_age_50_59   num_suicide_60_plus  num_suicide_age_unknown  \\\n",
       "0                    5422                 8747                      252   \n",
       "\n",
       "   num_suicide_total  \n",
       "0              24391  "
      ]
     },
     "execution_count": 74,
     "metadata": {},
     "output_type": "execute_result"
    }
   ],
   "source": [
    "df1997.head()"
   ]
  },
  {
   "cell_type": "code",
   "execution_count": 9,
   "id": "798af14c",
   "metadata": {},
   "outputs": [
    {
     "data": {
      "text/plain": [
       "Text(0.5, 1.0, 'Total Suicides in Japan between 1978 and 2022')"
      ]
     },
     "execution_count": 9,
     "metadata": {},
     "output_type": "execute_result"
    },
    {
     "data": {
      "image/png": "[encoded data removed]",
      "text/plain": [
       "<Figure size 640x480 with 1 Axes>"
      ]
     },
     "metadata": {},
     "output_type": "display_data"
    }
   ],
   "source": [
    "num_suicide_total = df['num_suicide_total']\n",
    "year = df['year']\n",
    "\n",
    "plt.plot(year, num_suicide_total) \n",
    "plt.xlabel(\"year\")  \n",
    "plt.ylabel(\"Suicide Total\") \n",
    "plt.title(\"Total Suicides in Japan between 1978 and 2022\")  \n",
    "#Below is a line graph depicting the total suicides in Japan between 1978 and 2022. As you can see from this visualization, \n",
    "#the peak years are between the late 1990s and up until 2020. Possible reasons for this immense peak are because of the \n",
    "#asset bubble collapse in 1991, the Great Hanshin earthquake in 1995, and the Asian economic crisis in 1997."
   ]
  },
  {
   "cell_type": "code",
   "execution_count": 13,
   "id": "c30f1152",
   "metadata": {},
   "outputs": [
    {
     "data": {
      "application/vnd.plotly.v1+json": {
       "config": {
        "plotlyServerURL": "https://plot.ly"
       },
       "data": [
        {
         "hovertemplate": "variable=suicide_rate_male<br>year=%{x}<br>value=%{y}<extra></extra>",
         "legendgroup": "suicide_rate_male",
         "line": {
          "color": "#636efa",
          "dash": "solid"
         },
         "marker": {
          "symbol": "circle"
         },
         "mode": "lines",
         "name": "suicide_rate_male",
         "orientation": "v",
         "showlegend": true,
         "type": "scatter",
         "x": [
          1978,
          1979,
          1980,
          1981,
          1982,
          1983,
          1984,
          1985,
          1986,
          1987,
          1988,
          1989,
          1990,
          1991,
          1992,
          1993,
          1994,
          1995,
          1996,
          1997,
          1998,
          1999,
          2000,
          2001,
          2002,
          2003,
          2004,
          2005,
          2006,
          2007,
          2008,
          2009,
          2010,
          2011,
          2012,
          2013,
          2014,
          2015,
          2016,
          2017,
          2018,
          2019,
          2020,
          2021,
          2022
         ],
         "xaxis": "x",
         "y": [
          22.7,
          23.4,
          22.8,
          22.3,
          23.4,
          29.1,
          27.9,
          26.3,
          27.6,
          26.3,
          24.8,
          22.8,
          21.6,
          21.7,
          23.4,
          23.6,
          23.7,
          24.2,
          24.9,
          26.6,
          37.1,
          37.9,
          36.6,
          35.6,
          37,
          40,
          37.3,
          37.8,
          36.6,
          37.6,
          36.6,
          37.6,
          35.8,
          33.7,
          31,
          30.3,
          28.1,
          27,
          24.5,
          24,
          23.2,
          22.9,
          22.9,
          22.9,
          24.3
         ],
         "yaxis": "y"
        },
        {
         "hovertemplate": "variable=suicide_rate_female<br>year=%{x}<br>value=%{y}<extra></extra>",
         "legendgroup": "suicide_rate_female",
         "line": {
          "color": "#EF553B",
          "dash": "solid"
         },
         "marker": {
          "symbol": "circle"
         },
         "mode": "lines",
         "name": "suicide_rate_female",
         "orientation": "v",
         "showlegend": true,
         "type": "scatter",
         "x": [
          1978,
          1979,
          1980,
          1981,
          1982,
          1983,
          1984,
          1985,
          1986,
          1987,
          1988,
          1989,
          1990,
          1991,
          1992,
          1993,
          1994,
          1995,
          1996,
          1997,
          1998,
          1999,
          2000,
          2001,
          2002,
          2003,
          2004,
          2005,
          2006,
          2007,
          2008,
          2009,
          2010,
          2011,
          2012,
          2013,
          2014,
          2015,
          2016,
          2017,
          2018,
          2019,
          2020,
          2021,
          2022
         ],
         "xaxis": "x",
         "y": [
          13.6,
          13.8,
          13.3,
          12.5,
          12.6,
          13.3,
          13.2,
          13,
          14.6,
          13.9,
          14.1,
          13.7,
          13.1,
          12.4,
          12.3,
          11.6,
          11.2,
          11.8,
          12,
          12.4,
          15.3,
          14.8,
          14.2,
          13.7,
          13.9,
          14.5,
          13.8,
          13.8,
          14.3,
          14.7,
          14.3,
          14.3,
          14.3,
          14.8,
          13.1,
          13,
          12.3,
          11.3,
          10.4,
          10,
          10.1,
          9.4,
          10.8,
          11,
          11.1
         ],
         "yaxis": "y"
        }
       ],
       "layout": {
        "legend": {
         "title": {
          "text": "variable"
         },
         "tracegroupgap": 0
        },
        "margin": {
         "t": 60
        },
        "template": {
         "data": {
          "bar": [
           {
            "error_x": {
             "color": "#2a3f5f"
            },
            "error_y": {
             "color": "#2a3f5f"
            },
            "marker": {
             "line": {
              "color": "#E5ECF6",
              "width": 0.5
             },
             "pattern": {
              "fillmode": "overlay",
              "size": 10,
              "solidity": 0.2
             }
            },
            "type": "bar"
           }
          ],
          "barpolar": [
           {
            "marker": {
             "line": {
              "color": "#E5ECF6",
              "width": 0.5
             },
             "pattern": {
              "fillmode": "overlay",
              "size": 10,
              "solidity": 0.2
             }
            },
            "type": "barpolar"
           }
          ],
          "carpet": [
           {
            "aaxis": {
             "endlinecolor": "#2a3f5f",
             "gridcolor": "white",
             "linecolor": "white",
             "minorgridcolor": "white",
             "startlinecolor": "#2a3f5f"
            },
            "baxis": {
             "endlinecolor": "#2a3f5f",
             "gridcolor": "white",
             "linecolor": "white",
             "minorgridcolor": "white",
             "startlinecolor": "#2a3f5f"
            },
            "type": "carpet"
           }
          ],
          "choropleth": [
           {
            "colorbar": {
             "outlinewidth": 0,
             "ticks": ""
            },
            "type": "choropleth"
           }
          ],
          "contour": [
           {
            "colorbar": {
             "outlinewidth": 0,
             "ticks": ""
            },
            "colorscale": [
             [
              0,
              "#0d0887"
             ],
             [
              0.1111111111111111,
              "#46039f"
             ],
             [
              0.2222222222222222,
              "#7201a8"
             ],
             [
              0.3333333333333333,
              "#9c179e"
             ],
             [
              0.4444444444444444,
              "#bd3786"
             ],
             [
              0.5555555555555556,
              "#d8576b"
             ],
             [
              0.6666666666666666,
              "#ed7953"
             ],
             [
              0.7777777777777778,
              "#fb9f3a"
             ],
             [
              0.8888888888888888,
              "#fdca26"
             ],
             [
              1,
              "#f0f921"
             ]
            ],
            "type": "contour"
           }
          ],
          "contourcarpet": [
           {
            "colorbar": {
             "outlinewidth": 0,
             "ticks": ""
            },
            "type": "contourcarpet"
           }
          ],
          "heatmap": [
           {
            "colorbar": {
             "outlinewidth": 0,
             "ticks": ""
            },
            "colorscale": [
             [
              0,
              "#0d0887"
             ],
             [
              0.1111111111111111,
              "#46039f"
             ],
             [
              0.2222222222222222,
              "#7201a8"
             ],
             [
              0.3333333333333333,
              "#9c179e"
             ],
             [
              0.4444444444444444,
              "#bd3786"
             ],
             [
              0.5555555555555556,
              "#d8576b"
             ],
             [
              0.6666666666666666,
              "#ed7953"
             ],
             [
              0.7777777777777778,
              "#fb9f3a"
             ],
             [
              0.8888888888888888,
              "#fdca26"
             ],
             [
              1,
              "#f0f921"
             ]
            ],
            "type": "heatmap"
           }
          ],
          "heatmapgl": [
           {
            "colorbar": {
             "outlinewidth": 0,
             "ticks": ""
            },
            "colorscale": [
             [
              0,
              "#0d0887"
             ],
             [
              0.1111111111111111,
              "#46039f"
             ],
             [
              0.2222222222222222,
              "#7201a8"
             ],
             [
              0.3333333333333333,
              "#9c179e"
             ],
             [
              0.4444444444444444,
              "#bd3786"
             ],
             [
              0.5555555555555556,
              "#d8576b"
             ],
             [
              0.6666666666666666,
              "#ed7953"
             ],
             [
              0.7777777777777778,
              "#fb9f3a"
             ],
             [
              0.8888888888888888,
              "#fdca26"
             ],
             [
              1,
              "#f0f921"
             ]
            ],
            "type": "heatmapgl"
           }
          ],
          "histogram": [
           {
            "marker": {
             "pattern": {
              "fillmode": "overlay",
              "size": 10,
              "solidity": 0.2
             }
            },
            "type": "histogram"
           }
          ],
          "histogram2d": [
           {
            "colorbar": {
             "outlinewidth": 0,
             "ticks": ""
            },
            "colorscale": [
             [
              0,
              "#0d0887"
             ],
             [
              0.1111111111111111,
              "#46039f"
             ],
             [
              0.2222222222222222,
              "#7201a8"
             ],
             [
              0.3333333333333333,
              "#9c179e"
             ],
             [
              0.4444444444444444,
              "#bd3786"
             ],
             [
              0.5555555555555556,
              "#d8576b"
             ],
             [
              0.6666666666666666,
              "#ed7953"
             ],
             [
              0.7777777777777778,
              "#fb9f3a"
             ],
             [
              0.8888888888888888,
              "#fdca26"
             ],
             [
              1,
              "#f0f921"
             ]
            ],
            "type": "histogram2d"
           }
          ],
          "histogram2dcontour": [
           {
            "colorbar": {
             "outlinewidth": 0,
             "ticks": ""
            },
            "colorscale": [
             [
              0,
              "#0d0887"
             ],
             [
              0.1111111111111111,
              "#46039f"
             ],
             [
              0.2222222222222222,
              "#7201a8"
             ],
             [
              0.3333333333333333,
              "#9c179e"
             ],
             [
              0.4444444444444444,
              "#bd3786"
             ],
             [
              0.5555555555555556,
              "#d8576b"
             ],
             [
              0.6666666666666666,
              "#ed7953"
             ],
             [
              0.7777777777777778,
              "#fb9f3a"
             ],
             [
              0.8888888888888888,
              "#fdca26"
             ],
             [
              1,
              "#f0f921"
             ]
            ],
            "type": "histogram2dcontour"
           }
          ],
          "mesh3d": [
           {
            "colorbar": {
             "outlinewidth": 0,
             "ticks": ""
            },
            "type": "mesh3d"
           }
          ],
          "parcoords": [
           {
            "line": {
             "colorbar": {
              "outlinewidth": 0,
              "ticks": ""
             }
            },
            "type": "parcoords"
           }
          ],
          "pie": [
           {
            "automargin": true,
            "type": "pie"
           }
          ],
          "scatter": [
           {
            "fillpattern": {
             "fillmode": "overlay",
             "size": 10,
             "solidity": 0.2
            },
            "type": "scatter"
           }
          ],
          "scatter3d": [
           {
            "line": {
             "colorbar": {
              "outlinewidth": 0,
              "ticks": ""
             }
            },
            "marker": {
             "colorbar": {
              "outlinewidth": 0,
              "ticks": ""
             }
            },
            "type": "scatter3d"
           }
          ],
          "scattercarpet": [
           {
            "marker": {
             "colorbar": {
              "outlinewidth": 0,
              "ticks": ""
             }
            },
            "type": "scattercarpet"
           }
          ],
          "scattergeo": [
           {
            "marker": {
             "colorbar": {
              "outlinewidth": 0,
              "ticks": ""
             }
            },
            "type": "scattergeo"
           }
          ],
          "scattergl": [
           {
            "marker": {
             "colorbar": {
              "outlinewidth": 0,
              "ticks": ""
             }
            },
            "type": "scattergl"
           }
          ],
          "scattermapbox": [
           {
            "marker": {
             "colorbar": {
              "outlinewidth": 0,
              "ticks": ""
             }
            },
            "type": "scattermapbox"
           }
          ],
          "scatterpolar": [
           {
            "marker": {
             "colorbar": {
              "outlinewidth": 0,
              "ticks": ""
             }
            },
            "type": "scatterpolar"
           }
          ],
          "scatterpolargl": [
           {
            "marker": {
             "colorbar": {
              "outlinewidth": 0,
              "ticks": ""
             }
            },
            "type": "scatterpolargl"
           }
          ],
          "scatterternary": [
           {
            "marker": {
             "colorbar": {
              "outlinewidth": 0,
              "ticks": ""
             }
            },
            "type": "scatterternary"
           }
          ],
          "surface": [
           {
            "colorbar": {
             "outlinewidth": 0,
             "ticks": ""
            },
            "colorscale": [
             [
              0,
              "#0d0887"
             ],
             [
              0.1111111111111111,
              "#46039f"
             ],
             [
              0.2222222222222222,
              "#7201a8"
             ],
             [
              0.3333333333333333,
              "#9c179e"
             ],
             [
              0.4444444444444444,
              "#bd3786"
             ],
             [
              0.5555555555555556,
              "#d8576b"
             ],
             [
              0.6666666666666666,
              "#ed7953"
             ],
             [
              0.7777777777777778,
              "#fb9f3a"
             ],
             [
              0.8888888888888888,
              "#fdca26"
             ],
             [
              1,
              "#f0f921"
             ]
            ],
            "type": "surface"
           }
          ],
          "table": [
           {
            "cells": {
             "fill": {
              "color": "#EBF0F8"
             },
             "line": {
              "color": "white"
             }
            },
            "header": {
             "fill": {
              "color": "#C8D4E3"
             },
             "line": {
              "color": "white"
             }
            },
            "type": "table"
           }
          ]
         },
         "layout": {
          "annotationdefaults": {
           "arrowcolor": "#2a3f5f",
           "arrowhead": 0,
           "arrowwidth": 1
          },
          "autotypenumbers": "strict",
          "coloraxis": {
           "colorbar": {
            "outlinewidth": 0,
            "ticks": ""
           }
          },
          "colorscale": {
           "diverging": [
            [
             0,
             "#8e0152"
            ],
            [
             0.1,
             "#c51b7d"
            ],
            [
             0.2,
             "#de77ae"
            ],
            [
             0.3,
             "#f1b6da"
            ],
            [
             0.4,
             "#fde0ef"
            ],
            [
             0.5,
             "#f7f7f7"
            ],
            [
             0.6,
             "#e6f5d0"
            ],
            [
             0.7,
             "#b8e186"
            ],
            [
             0.8,
             "#7fbc41"
            ],
            [
             0.9,
             "#4d9221"
            ],
            [
             1,
             "#276419"
            ]
           ],
           "sequential": [
            [
             0,
             "#0d0887"
            ],
            [
             0.1111111111111111,
             "#46039f"
            ],
            [
             0.2222222222222222,
             "#7201a8"
            ],
            [
             0.3333333333333333,
             "#9c179e"
            ],
            [
             0.4444444444444444,
             "#bd3786"
            ],
            [
             0.5555555555555556,
             "#d8576b"
            ],
            [
             0.6666666666666666,
             "#ed7953"
            ],
            [
             0.7777777777777778,
             "#fb9f3a"
            ],
            [
             0.8888888888888888,
             "#fdca26"
            ],
            [
             1,
             "#f0f921"
            ]
           ],
           "sequentialminus": [
            [
             0,
             "#0d0887"
            ],
            [
             0.1111111111111111,
             "#46039f"
            ],
            [
             0.2222222222222222,
             "#7201a8"
            ],
            [
             0.3333333333333333,
             "#9c179e"
            ],
            [
             0.4444444444444444,
             "#bd3786"
            ],
            [
             0.5555555555555556,
             "#d8576b"
            ],
            [
             0.6666666666666666,
             "#ed7953"
            ],
            [
             0.7777777777777778,
             "#fb9f3a"
            ],
            [
             0.8888888888888888,
             "#fdca26"
            ],
            [
             1,
             "#f0f921"
            ]
           ]
          },
          "colorway": [
           "#636efa",
           "#EF553B",
           "#00cc96",
           "#ab63fa",
           "#FFA15A",
           "#19d3f3",
           "#FF6692",
           "#B6E880",
           "#FF97FF",
           "#FECB52"
          ],
          "font": {
           "color": "#2a3f5f"
          },
          "geo": {
           "bgcolor": "white",
           "lakecolor": "white",
           "landcolor": "#E5ECF6",
           "showlakes": true,
           "showland": true,
           "subunitcolor": "white"
          },
          "hoverlabel": {
           "align": "left"
          },
          "hovermode": "closest",
          "mapbox": {
           "style": "light"
          },
          "paper_bgcolor": "white",
          "plot_bgcolor": "#E5ECF6",
          "polar": {
           "angularaxis": {
            "gridcolor": "white",
            "linecolor": "white",
            "ticks": ""
           },
           "bgcolor": "#E5ECF6",
           "radialaxis": {
            "gridcolor": "white",
            "linecolor": "white",
            "ticks": ""
           }
          },
          "scene": {
           "xaxis": {
            "backgroundcolor": "#E5ECF6",
            "gridcolor": "white",
            "gridwidth": 2,
            "linecolor": "white",
            "showbackground": true,
            "ticks": "",
            "zerolinecolor": "white"
           },
           "yaxis": {
            "backgroundcolor": "#E5ECF6",
            "gridcolor": "white",
            "gridwidth": 2,
            "linecolor": "white",
            "showbackground": true,
            "ticks": "",
            "zerolinecolor": "white"
           },
           "zaxis": {
            "backgroundcolor": "#E5ECF6",
            "gridcolor": "white",
            "gridwidth": 2,
            "linecolor": "white",
            "showbackground": true,
            "ticks": "",
            "zerolinecolor": "white"
           }
          },
          "shapedefaults": {
           "line": {
            "color": "#2a3f5f"
           }
          },
          "ternary": {
           "aaxis": {
            "gridcolor": "white",
            "linecolor": "white",
            "ticks": ""
           },
           "baxis": {
            "gridcolor": "white",
            "linecolor": "white",
            "ticks": ""
           },
           "bgcolor": "#E5ECF6",
           "caxis": {
            "gridcolor": "white",
            "linecolor": "white",
            "ticks": ""
           }
          },
          "title": {
           "x": 0.05
          },
          "xaxis": {
           "automargin": true,
           "gridcolor": "white",
           "linecolor": "white",
           "ticks": "",
           "title": {
            "standoff": 15
           },
           "zerolinecolor": "white",
           "zerolinewidth": 2
          },
          "yaxis": {
           "automargin": true,
           "gridcolor": "white",
           "linecolor": "white",
           "ticks": "",
           "title": {
            "standoff": 15
           },
           "zerolinecolor": "white",
           "zerolinewidth": 2
          }
         }
        },
        "xaxis": {
         "anchor": "y",
         "domain": [
          0,
          1
         ],
         "title": {
          "text": "year"
         }
        },
        "yaxis": {
         "anchor": "x",
         "domain": [
          0,
          1
         ],
         "title": {
          "text": "value"
         }
        }
       }
      },
      "text/html": [
       "<div>                            <div id=\"640badf2-88e7-46aa-89db-db8c4ef2144c\" class=\"plotly-graph-div\" style=\"height:525px; width:100%;\"></div>            <script type=\"text/javascript\">                require([\"plotly\"], function(Plotly) {                    window.PLOTLYENV=window.PLOTLYENV || {};                                    if (document.getElementById(\"640badf2-88e7-46aa-89db-db8c4ef2144c\")) {                    Plotly.newPlot(                        \"640badf2-88e7-46aa-89db-db8c4ef2144c\",                        [{\"hovertemplate\":\"variable=suicide_rate_male<br>year=%{x}<br>value=%{y}<extra></extra>\",\"legendgroup\":\"suicide_rate_male\",\"line\":{\"color\":\"#636efa\",\"dash\":\"solid\"},\"marker\":{\"symbol\":\"circle\"},\"mode\":\"lines\",\"name\":\"suicide_rate_male\",\"orientation\":\"v\",\"showlegend\":true,\"x\":[1978,1979,1980,1981,1982,1983,1984,1985,1986,1987,1988,1989,1990,1991,1992,1993,1994,1995,1996,1997,1998,1999,2000,2001,2002,2003,2004,2005,2006,2007,2008,2009,2010,2011,2012,2013,2014,2015,2016,2017,2018,2019,2020,2021,2022],\"xaxis\":\"x\",\"y\":[22.7,23.4,22.8,22.3,23.4,29.1,27.9,26.3,27.6,26.3,24.8,22.8,21.6,21.7,23.4,23.6,23.7,24.2,24.9,26.6,37.1,37.9,36.6,35.6,37.0,40.0,37.3,37.8,36.6,37.6,36.6,37.6,35.8,33.7,31.0,30.3,28.1,27.0,24.5,24.0,23.2,22.9,22.9,22.9,24.3],\"yaxis\":\"y\",\"type\":\"scatter\"},{\"hovertemplate\":\"variable=suicide_rate_female<br>year=%{x}<br>value=%{y}<extra></extra>\",\"legendgroup\":\"suicide_rate_female\",\"line\":{\"color\":\"#EF553B\",\"dash\":\"solid\"},\"marker\":{\"symbol\":\"circle\"},\"mode\":\"lines\",\"name\":\"suicide_rate_female\",\"orientation\":\"v\",\"showlegend\":true,\"x\":[1978,1979,1980,1981,1982,1983,1984,1985,1986,1987,1988,1989,1990,1991,1992,1993,1994,1995,1996,1997,1998,1999,2000,2001,2002,2003,2004,2005,2006,2007,2008,2009,2010,2011,2012,2013,2014,2015,2016,2017,2018,2019,2020,2021,2022],\"xaxis\":\"x\",\"y\":[13.6,13.8,13.3,12.5,12.6,13.3,13.2,13.0,14.6,13.9,14.1,13.7,13.1,12.4,12.3,11.6,11.2,11.8,12.0,12.4,15.3,14.8,14.2,13.7,13.9,14.5,13.8,13.8,14.3,14.7,14.3,14.3,14.3,14.8,13.1,13.0,12.3,11.3,10.4,10.0,10.1,9.4,10.8,11.0,11.1],\"yaxis\":\"y\",\"type\":\"scatter\"}],                        {\"template\":{\"data\":{\"histogram2dcontour\":[{\"type\":\"histogram2dcontour\",\"colorbar\":{\"outlinewidth\":0,\"ticks\":\"\"},\"colorscale\":[[0.0,\"#0d0887\"],[0.1111111111111111,\"#46039f\"],[0.2222222222222222,\"#7201a8\"],[0.3333333333333333,\"#9c179e\"],[0.4444444444444444,\"#bd3786\"],[0.5555555555555556,\"#d8576b\"],[0.6666666666666666,\"#ed7953\"],[0.7777777777777778,\"#fb9f3a\"],[0.8888888888888888,\"#fdca26\"],[1.0,\"#f0f921\"]]}],\"choropleth\":[{\"type\":\"choropleth\",\"colorbar\":{\"outlinewidth\":0,\"ticks\":\"\"}}],\"histogram2d\":[{\"type\":\"histogram2d\",\"colorbar\":{\"outlinewidth\":0,\"ticks\":\"\"},\"colorscale\":[[0.0,\"#0d0887\"],[0.1111111111111111,\"#46039f\"],[0.2222222222222222,\"#7201a8\"],[0.3333333333333333,\"#9c179e\"],[0.4444444444444444,\"#bd3786\"],[0.5555555555555556,\"#d8576b\"],[0.6666666666666666,\"#ed7953\"],[0.7777777777777778,\"#fb9f3a\"],[0.8888888888888888,\"#fdca26\"],[1.0,\"#f0f921\"]]}],\"heatmap\":[{\"type\":\"heatmap\",\"colorbar\":{\"outlinewidth\":0,\"ticks\":\"\"},\"colorscale\":[[0.0,\"#0d0887\"],[0.1111111111111111,\"#46039f\"],[0.2222222222222222,\"#7201a8\"],[0.3333333333333333,\"#9c179e\"],[0.4444444444444444,\"#bd3786\"],[0.5555555555555556,\"#d8576b\"],[0.6666666666666666,\"#ed7953\"],[0.7777777777777778,\"#fb9f3a\"],[0.8888888888888888,\"#fdca26\"],[1.0,\"#f0f921\"]]}],\"heatmapgl\":[{\"type\":\"heatmapgl\",\"colorbar\":{\"outlinewidth\":0,\"ticks\":\"\"},\"colorscale\":[[0.0,\"#0d0887\"],[0.1111111111111111,\"#46039f\"],[0.2222222222222222,\"#7201a8\"],[0.3333333333333333,\"#9c179e\"],[0.4444444444444444,\"#bd3786\"],[0.5555555555555556,\"#d8576b\"],[0.6666666666666666,\"#ed7953\"],[0.7777777777777778,\"#fb9f3a\"],[0.8888888888888888,\"#fdca26\"],[1.0,\"#f0f921\"]]}],\"contourcarpet\":[{\"type\":\"contourcarpet\",\"colorbar\":{\"outlinewidth\":0,\"ticks\":\"\"}}],\"contour\":[{\"type\":\"contour\",\"colorbar\":{\"outlinewidth\":0,\"ticks\":\"\"},\"colorscale\":[[0.0,\"#0d0887\"],[0.1111111111111111,\"#46039f\"],[0.2222222222222222,\"#7201a8\"],[0.3333333333333333,\"#9c179e\"],[0.4444444444444444,\"#bd3786\"],[0.5555555555555556,\"#d8576b\"],[0.6666666666666666,\"#ed7953\"],[0.7777777777777778,\"#fb9f3a\"],[0.8888888888888888,\"#fdca26\"],[1.0,\"#f0f921\"]]}],\"surface\":[{\"type\":\"surface\",\"colorbar\":{\"outlinewidth\":0,\"ticks\":\"\"},\"colorscale\":[[0.0,\"#0d0887\"],[0.1111111111111111,\"#46039f\"],[0.2222222222222222,\"#7201a8\"],[0.3333333333333333,\"#9c179e\"],[0.4444444444444444,\"#bd3786\"],[0.5555555555555556,\"#d8576b\"],[0.6666666666666666,\"#ed7953\"],[0.7777777777777778,\"#fb9f3a\"],[0.8888888888888888,\"#fdca26\"],[1.0,\"#f0f921\"]]}],\"mesh3d\":[{\"type\":\"mesh3d\",\"colorbar\":{\"outlinewidth\":0,\"ticks\":\"\"}}],\"scatter\":[{\"fillpattern\":{\"fillmode\":\"overlay\",\"size\":10,\"solidity\":0.2},\"type\":\"scatter\"}],\"parcoords\":[{\"type\":\"parcoords\",\"line\":{\"colorbar\":{\"outlinewidth\":0,\"ticks\":\"\"}}}],\"scatterpolargl\":[{\"type\":\"scatterpolargl\",\"marker\":{\"colorbar\":{\"outlinewidth\":0,\"ticks\":\"\"}}}],\"bar\":[{\"error_x\":{\"color\":\"#2a3f5f\"},\"error_y\":{\"color\":\"#2a3f5f\"},\"marker\":{\"line\":{\"color\":\"#E5ECF6\",\"width\":0.5},\"pattern\":{\"fillmode\":\"overlay\",\"size\":10,\"solidity\":0.2}},\"type\":\"bar\"}],\"scattergeo\":[{\"type\":\"scattergeo\",\"marker\":{\"colorbar\":{\"outlinewidth\":0,\"ticks\":\"\"}}}],\"scatterpolar\":[{\"type\":\"scatterpolar\",\"marker\":{\"colorbar\":{\"outlinewidth\":0,\"ticks\":\"\"}}}],\"histogram\":[{\"marker\":{\"pattern\":{\"fillmode\":\"overlay\",\"size\":10,\"solidity\":0.2}},\"type\":\"histogram\"}],\"scattergl\":[{\"type\":\"scattergl\",\"marker\":{\"colorbar\":{\"outlinewidth\":0,\"ticks\":\"\"}}}],\"scatter3d\":[{\"type\":\"scatter3d\",\"line\":{\"colorbar\":{\"outlinewidth\":0,\"ticks\":\"\"}},\"marker\":{\"colorbar\":{\"outlinewidth\":0,\"ticks\":\"\"}}}],\"scattermapbox\":[{\"type\":\"scattermapbox\",\"marker\":{\"colorbar\":{\"outlinewidth\":0,\"ticks\":\"\"}}}],\"scatterternary\":[{\"type\":\"scatterternary\",\"marker\":{\"colorbar\":{\"outlinewidth\":0,\"ticks\":\"\"}}}],\"scattercarpet\":[{\"type\":\"scattercarpet\",\"marker\":{\"colorbar\":{\"outlinewidth\":0,\"ticks\":\"\"}}}],\"carpet\":[{\"aaxis\":{\"endlinecolor\":\"#2a3f5f\",\"gridcolor\":\"white\",\"linecolor\":\"white\",\"minorgridcolor\":\"white\",\"startlinecolor\":\"#2a3f5f\"},\"baxis\":{\"endlinecolor\":\"#2a3f5f\",\"gridcolor\":\"white\",\"linecolor\":\"white\",\"minorgridcolor\":\"white\",\"startlinecolor\":\"#2a3f5f\"},\"type\":\"carpet\"}],\"table\":[{\"cells\":{\"fill\":{\"color\":\"#EBF0F8\"},\"line\":{\"color\":\"white\"}},\"header\":{\"fill\":{\"color\":\"#C8D4E3\"},\"line\":{\"color\":\"white\"}},\"type\":\"table\"}],\"barpolar\":[{\"marker\":{\"line\":{\"color\":\"#E5ECF6\",\"width\":0.5},\"pattern\":{\"fillmode\":\"overlay\",\"size\":10,\"solidity\":0.2}},\"type\":\"barpolar\"}],\"pie\":[{\"automargin\":true,\"type\":\"pie\"}]},\"layout\":{\"autotypenumbers\":\"strict\",\"colorway\":[\"#636efa\",\"#EF553B\",\"#00cc96\",\"#ab63fa\",\"#FFA15A\",\"#19d3f3\",\"#FF6692\",\"#B6E880\",\"#FF97FF\",\"#FECB52\"],\"font\":{\"color\":\"#2a3f5f\"},\"hovermode\":\"closest\",\"hoverlabel\":{\"align\":\"left\"},\"paper_bgcolor\":\"white\",\"plot_bgcolor\":\"#E5ECF6\",\"polar\":{\"bgcolor\":\"#E5ECF6\",\"angularaxis\":{\"gridcolor\":\"white\",\"linecolor\":\"white\",\"ticks\":\"\"},\"radialaxis\":{\"gridcolor\":\"white\",\"linecolor\":\"white\",\"ticks\":\"\"}},\"ternary\":{\"bgcolor\":\"#E5ECF6\",\"aaxis\":{\"gridcolor\":\"white\",\"linecolor\":\"white\",\"ticks\":\"\"},\"baxis\":{\"gridcolor\":\"white\",\"linecolor\":\"white\",\"ticks\":\"\"},\"caxis\":{\"gridcolor\":\"white\",\"linecolor\":\"white\",\"ticks\":\"\"}},\"coloraxis\":{\"colorbar\":{\"outlinewidth\":0,\"ticks\":\"\"}},\"colorscale\":{\"sequential\":[[0.0,\"#0d0887\"],[0.1111111111111111,\"#46039f\"],[0.2222222222222222,\"#7201a8\"],[0.3333333333333333,\"#9c179e\"],[0.4444444444444444,\"#bd3786\"],[0.5555555555555556,\"#d8576b\"],[0.6666666666666666,\"#ed7953\"],[0.7777777777777778,\"#fb9f3a\"],[0.8888888888888888,\"#fdca26\"],[1.0,\"#f0f921\"]],\"sequentialminus\":[[0.0,\"#0d0887\"],[0.1111111111111111,\"#46039f\"],[0.2222222222222222,\"#7201a8\"],[0.3333333333333333,\"#9c179e\"],[0.4444444444444444,\"#bd3786\"],[0.5555555555555556,\"#d8576b\"],[0.6666666666666666,\"#ed7953\"],[0.7777777777777778,\"#fb9f3a\"],[0.8888888888888888,\"#fdca26\"],[1.0,\"#f0f921\"]],\"diverging\":[[0,\"#8e0152\"],[0.1,\"#c51b7d\"],[0.2,\"#de77ae\"],[0.3,\"#f1b6da\"],[0.4,\"#fde0ef\"],[0.5,\"#f7f7f7\"],[0.6,\"#e6f5d0\"],[0.7,\"#b8e186\"],[0.8,\"#7fbc41\"],[0.9,\"#4d9221\"],[1,\"#276419\"]]},\"xaxis\":{\"gridcolor\":\"white\",\"linecolor\":\"white\",\"ticks\":\"\",\"title\":{\"standoff\":15},\"zerolinecolor\":\"white\",\"automargin\":true,\"zerolinewidth\":2},\"yaxis\":{\"gridcolor\":\"white\",\"linecolor\":\"white\",\"ticks\":\"\",\"title\":{\"standoff\":15},\"zerolinecolor\":\"white\",\"automargin\":true,\"zerolinewidth\":2},\"scene\":{\"xaxis\":{\"backgroundcolor\":\"#E5ECF6\",\"gridcolor\":\"white\",\"linecolor\":\"white\",\"showbackground\":true,\"ticks\":\"\",\"zerolinecolor\":\"white\",\"gridwidth\":2},\"yaxis\":{\"backgroundcolor\":\"#E5ECF6\",\"gridcolor\":\"white\",\"linecolor\":\"white\",\"showbackground\":true,\"ticks\":\"\",\"zerolinecolor\":\"white\",\"gridwidth\":2},\"zaxis\":{\"backgroundcolor\":\"#E5ECF6\",\"gridcolor\":\"white\",\"linecolor\":\"white\",\"showbackground\":true,\"ticks\":\"\",\"zerolinecolor\":\"white\",\"gridwidth\":2}},\"shapedefaults\":{\"line\":{\"color\":\"#2a3f5f\"}},\"annotationdefaults\":{\"arrowcolor\":\"#2a3f5f\",\"arrowhead\":0,\"arrowwidth\":1},\"geo\":{\"bgcolor\":\"white\",\"landcolor\":\"#E5ECF6\",\"subunitcolor\":\"white\",\"showland\":true,\"showlakes\":true,\"lakecolor\":\"white\"},\"title\":{\"x\":0.05},\"mapbox\":{\"style\":\"light\"}}},\"xaxis\":{\"anchor\":\"y\",\"domain\":[0.0,1.0],\"title\":{\"text\":\"year\"}},\"yaxis\":{\"anchor\":\"x\",\"domain\":[0.0,1.0],\"title\":{\"text\":\"value\"}},\"legend\":{\"title\":{\"text\":\"variable\"},\"tracegroupgap\":0},\"margin\":{\"t\":60}},                        {\"responsive\": true}                    ).then(function(){\n",
       "                            \n",
       "var gd = document.getElementById('640badf2-88e7-46aa-89db-db8c4ef2144c');\n",
       "var x = new MutationObserver(function (mutations, observer) {{\n",
       "        var display = window.getComputedStyle(gd).display;\n",
       "        if (!display || display === 'none') {{\n",
       "            console.log([gd, 'removed!']);\n",
       "            Plotly.purge(gd);\n",
       "            observer.disconnect();\n",
       "        }}\n",
       "}});\n",
       "\n",
       "// Listen for the removal of the full notebook cells\n",
       "var notebookContainer = gd.closest('#notebook-container');\n",
       "if (notebookContainer) {{\n",
       "    x.observe(notebookContainer, {childList: true});\n",
       "}}\n",
       "\n",
       "// Listen for the clearing of the current output cell\n",
       "var outputEl = gd.closest('.output');\n",
       "if (outputEl) {{\n",
       "    x.observe(outputEl, {childList: true});\n",
       "}}\n",
       "\n",
       "                        })                };                });            </script>        </div>"
      ]
     },
     "metadata": {},
     "output_type": "display_data"
    }
   ],
   "source": [
    "import plotly.express as px \n",
    "fig = px.line(df, x='year', y=['suicide_rate_male', 'suicide_rate_female'])\n",
    "fig.show()\n",
    "\n",
    "#According to this chart, suicide rates for males is higher than the suicide rate for females. \n",
    "#Middle-aged men are frequently portrayed as the highest-risk group for suicides in Japan.\n",
    "# Gender-based roles are still relevant in modern-day Japan, with women predominantly taking care of family \n",
    "#and housekeeping, and men financially providing for their families. Despite changes in the perception of gender \n",
    "#roles in recent years, it appears that economic pressure is more prevalent among men in Japan. Failure to meet \n",
    "#social expectations may result in a higher likelihood of experiencing mental health issues, which may ultimately \n",
    "#lead to suicidal ideation.\n",
    "\n"
   ]
  },
  {
   "cell_type": "code",
   "execution_count": 46,
   "id": "cce41fa3",
   "metadata": {},
   "outputs": [
    {
     "data": {
      "text/plain": [
       "<Axes: xlabel='year'>"
      ]
     },
     "execution_count": 46,
     "metadata": {},
     "output_type": "execute_result"
    },
    {
     "data": {
      "image/png": "[encoded data removed]",
      "text/plain": [
       "<Figure size 640x480 with 1 Axes>"
      ]
     },
     "metadata": {},
     "output_type": "display_data"
    }
   ],
   "source": [
    "#Suicide totals for different age groups for the year 2022\n",
    "\n",
    "df2022.plot(x='year', y=['num_suicide_age_0_19', 'num_suicide_age_20_29 ', 'num_suicide_age_30_39 ', \n",
    "                         'num_suicide_age_40_49 ', 'num_suicide_age_50_59 ', 'num_suicide_60_plus'], kind=\"bar\") \n",
    "\n",
    "#For the year 2022 in Japan, suicide was the highest for people in their 60s. \n",
    "#The void experienced after being forced to retire from the workplace is said to be partly responsible for the large number\n",
    "#of elderly suicides every year."
   ]
  },
  {
   "cell_type": "code",
   "execution_count": 71,
   "id": "5d33d8b0",
   "metadata": {},
   "outputs": [
    {
     "data": {
      "text/plain": [
       "<Axes: xlabel='year'>"
      ]
     },
     "execution_count": 71,
     "metadata": {},
     "output_type": "execute_result"
    },
    {
     "data": {
      "image/png": "[encoded data removed]",
      "text/plain": [
       "<Figure size 750x350 with 1 Axes>"
      ]
     },
     "metadata": {},
     "output_type": "display_data"
    }
   ],
   "source": [
    "#Age Groups Most Affected by Global Financial Crisis Between 2008-2009\n",
    "\n",
    "df0809.plot(x='year', y=['num_suicide_age_0_19', 'num_suicide_age_20_29 ', 'num_suicide_age_30_39 ', \n",
    "                         'num_suicide_age_40_49 ', 'num_suicide_age_50_59 ', 'num_suicide_60_plus'], kind=\"bar\") \n",
    "#Once again during the global financial crisis between 2008 and 2009, elderly people where most affected. Many elderly\n",
    "#experienced health issues and poverty during this time period. "
   ]
  },
  {
   "cell_type": "code",
   "execution_count": 75,
   "id": "57f0d9ca",
   "metadata": {},
   "outputs": [
    {
     "data": {
      "text/plain": [
       "<Axes: xlabel='year'>"
      ]
     },
     "execution_count": 75,
     "metadata": {},
     "output_type": "execute_result"
    },
    {
     "data": {
      "image/png": "[encoded data removed]",
      "text/plain": [
       "<Figure size 750x350 with 1 Axes>"
      ]
     },
     "metadata": {},
     "output_type": "display_data"
    }
   ],
   "source": [
    "#Age Groups Most Affected by Asian Financial Crisis\n",
    "df1997.plot(x='year', y=['num_suicide_age_0_19', 'num_suicide_age_20_29 ', 'num_suicide_age_30_39 ', \n",
    "                         'num_suicide_age_40_49 ', 'num_suicide_age_50_59 ', 'num_suicide_60_plus'], kind=\"bar\") \n",
    "#Once again the elderly are the most affected by the Asian Financial Crisis for very similair reasosns such as the Global\n",
    "#Financial Crisis. "
   ]
  },
  {
   "cell_type": "code",
   "execution_count": 52,
   "id": "999cc904",
   "metadata": {},
   "outputs": [
    {
     "data": {
      "text/plain": [
       "Text(0.5, 1.0, 'Suicide Rate by Year')"
      ]
     },
     "execution_count": 52,
     "metadata": {},
     "output_type": "execute_result"
    },
    {
     "data": {
      "image/png": "[encoded data removed]",
      "text/plain": [
       "<Figure size 640x480 with 1 Axes>"
      ]
     },
     "metadata": {},
     "output_type": "display_data"
    }
   ],
   "source": [
    "num_suicide_total = df['suicide_rate']\n",
    "year = df['year']\n",
    "\n",
    "plt.plot(year, num_suicide_total) \n",
    "plt.xlabel(\"year\")  \n",
    "plt.ylabel(\"suicide_rate\") \n",
    "plt.title(\"Suicide Rate by Year\")  \n",
    "#The suicide rate graph is very similar to the total suicides above. Once again, the suicide rate between the late 1990s \n",
    "#the 2020s peaked due to the same reasons the total suicides peaked."
   ]
  },
  {
   "cell_type": "code",
   "execution_count": 64,
   "id": "49bf52e3",
   "metadata": {},
   "outputs": [
    {
     "data": {
      "text/plain": [
       "<Axes: xlabel='year'>"
      ]
     },
     "execution_count": 64,
     "metadata": {},
     "output_type": "execute_result"
    },
    {
     "data": {
      "image/png": "[encoded data removed]",
      "text/plain": [
       "<Figure size 750x350 with 1 Axes>"
      ]
     },
     "metadata": {},
     "output_type": "display_data"
    }
   ],
   "source": [
    "#Male and Female Suicide Totals Over the Years in Japan\n",
    "df2022.plot(x='year', y=['num_suicide_male', 'num_suicide_female'], kind=\"bar\") \n",
    "#Once again, males commit suicide more frequently than females mainly because they do not have as high of an expecation\n",
    "#do perform well as males in society as they are not the breadwinners. "
   ]
  },
  {
   "cell_type": "code",
   "execution_count": 72,
   "id": "7768ee6d",
   "metadata": {},
   "outputs": [
    {
     "data": {
      "text/plain": [
       "<Axes: xlabel='year'>"
      ]
     },
     "execution_count": 72,
     "metadata": {},
     "output_type": "execute_result"
    },
    {
     "data": {
      "image/png": "[encoded data removed]",
      "text/plain": [
       "<Figure size 750x350 with 1 Axes>"
      ]
     },
     "metadata": {},
     "output_type": "display_data"
    }
   ],
   "source": [
    "#Male and Female Suicide Totals During Global Financial Crisis\n",
    "df0809.plot(x='year', y=['num_suicide_male', 'num_suicide_female'], kind=\"bar\") \n",
    "#Compared to 2022, the values of the suicide totals for men were drastically higher during the global financial crisis due\n",
    "#to joblessness. Females seemed to have stayed relatively the same. "
   ]
  },
  {
   "cell_type": "code",
   "execution_count": 76,
   "id": "df477269",
   "metadata": {},
   "outputs": [
    {
     "data": {
      "text/plain": [
       "<Axes: xlabel='year'>"
      ]
     },
     "execution_count": 76,
     "metadata": {},
     "output_type": "execute_result"
    },
    {
     "data": {
      "image/png": "[encoded data removed]",
      "text/plain": [
       "<Figure size 750x350 with 1 Axes>"
      ]
     },
     "metadata": {},
     "output_type": "display_data"
    }
   ],
   "source": [
    "#Male and Female Suicide Totals During the Asian Financial Crisis\n",
    "df1997.plot(x='year', y=['num_suicide_male', 'num_suicide_female'], kind=\"bar\") \n",
    "#The Asian financial crisis was bad for males but compared to 1997 it was not as high. The rates for females seem to be not \n",
    "#very different compared to subsquent years.  "
   ]
  },
  {
   "cell_type": "code",
   "execution_count": null,
   "id": "c5cc32ba",
   "metadata": {},
   "outputs": [],
   "source": []
  }
 ],
 "metadata": {
  "kernelspec": {
   "display_name": "Python 3 (ipykernel)",
   "language": "python",
   "name": "python3"
  },
  "language_info": {
   "codemirror_mode": {
    "name": "ipython",
    "version": 3
   },
   "file_extension": ".py",
   "mimetype": "text/x-python",
   "name": "python",
   "nbconvert_exporter": "python",
   "pygments_lexer": "ipython3",
   "version": "3.10.9"
  }
 },
 "nbformat": 4,
 "nbformat_minor": 5
}
